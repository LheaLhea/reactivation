{
 "cells": [
  {
   "cell_type": "code",
   "execution_count": 2,
   "metadata": {},
   "outputs": [
    {
     "data": {
      "text/html": [
       "<style>.container { width:100% !important; }</style>"
      ],
      "text/plain": [
       "<IPython.core.display.HTML object>"
      ]
     },
     "metadata": {},
     "output_type": "display_data"
    }
   ],
   "source": [
    "import importlib\n",
    "import plot_across_mice_opto\n",
    "from IPython.core.display import display, HTML\n",
    "display(HTML(\"<style>.container { width:100% !important; }</style>\"))"
   ]
  },
  {
   "cell_type": "code",
   "execution_count": 3,
   "metadata": {},
   "outputs": [],
   "source": [
    "mice = ['NN13', 'NN16', 'NN17']\n",
    "sample_dates = ['210811', '211014', '211025']\n",
    "all_mice = ['NN8', 'NN9', 'NN11', 'NN23', 'NN28', 'NN13', 'NN16', 'NN17']\n",
    "all_sample_dates = ['210312', '210428', '210626', '220416', '230210', '210811', '211014', '211025']"
   ]
  },
  {
   "cell_type": "code",
   "execution_count": null,
   "metadata": {},
   "outputs": [],
   "source": [
    "importlib.reload(plot_across_mice_opto)\n",
    "# plot mean reactivation rate session\n",
    "plot_across_mice_opto.reactivation_rate_day(mice, sample_dates)\n",
    "# plot mean reactivation bias session\n",
    "plot_across_mice_opto.reactivation_bias_day(mice, sample_dates)\n",
    "# plot reactivation_rate_trial\n",
    "plot_across_mice_opto.reactivation_rate_trial(mice, sample_dates)\n",
    "# plot bias within trial\n",
    "plot_across_mice_opto.reactivation_bias_trial(mice, sample_dates)\n",
    "# plot activity control\n",
    "plot_across_mice_opto.activity_control(mice, sample_dates)\n",
    "# plot activity difference\n",
    "plot_across_mice_opto.activity_difference(mice, sample_dates)\n",
    "# plot pupil control\n",
    "plot_across_mice_opto.pupil_control(mice, sample_dates)\n",
    "# plot rate within trial long\n",
    "plot_across_mice_opto.reactivation_rate_trial_controlopto_R1(mice, sample_dates)\n",
    "# plot bias within trial long\n",
    "plot_across_mice_opto.reactivation_bias_trial_controlopto_R1(mice, sample_dates)\n",
    "# baseline control rate pupil\n",
    "plot_across_mice_opto.reactivation_rate_pupil_control_baseline_R1(mice, sample_dates)"
   ]
  },
  {
   "cell_type": "code",
   "execution_count": null,
   "metadata": {},
   "outputs": [],
   "source": [
    "# plot comparison\n",
    "plot_across_mice_opto.reactivation_rate_day_comparison_R1(all_mice, all_sample_dates)\n",
    "# activity across trials\n",
    "plot_across_mice_opto.activity_across_trials(mice, sample_dates)\n",
    "# activity across trials grouped\n",
    "plot_across_mice_opto.activity_across_trials_grouped(mice, sample_dates)\n",
    "# activity across trials grouped decrease/increase\n",
    "plot_across_mice_opto.activity_across_trials_grouped_decrease(mice, sample_dates)\n",
    "# cue vector\n",
    "plot_across_mice_opto.reactivation_cue_vector(mice, sample_dates)\n",
    "# diff cue and reactivation\n",
    "plot_across_mice_opto.reactivation_influence(mice, sample_dates)\n",
    "# pattern cue and reactivation diff\n",
    "plot_across_mice_opto.activity_difference_grouped(mice, sample_dates)\n",
    "# reactivation cue vector evolved\n",
    "plot_across_mice_opto.reactivation_cue_vector_evolve(mice, sample_dates)"
   ]
  },
  {
   "cell_type": "code",
   "execution_count": 19,
   "metadata": {},
   "outputs": [
    {
     "name": "stdout",
     "output_type": "stream",
     "text": [
      "TtestResult(statistic=-1.9453404995559933, pvalue=0.19114931161937737, df=2)\n",
      "TtestResult(statistic=-0.34337901301192536, pvalue=0.7640499438582664, df=2)\n",
      "TtestResult(statistic=1.133868175652788, pvalue=0.3744652347548112, df=2)\n"
     ]
    }
   ],
   "source": [
    "importlib.reload(plot_across_mice_opto)\n",
    "plot_across_mice_opto.activity_control(mice, sample_dates)\n",
    "plot_across_mice_opto.pupil_control(mice, sample_dates)"
   ]
  },
  {
   "cell_type": "code",
   "execution_count": null,
   "metadata": {},
   "outputs": [],
   "source": []
  }
 ],
 "metadata": {
  "kernelspec": {
   "display_name": "Python 3",
   "language": "python",
   "name": "python3"
  },
  "language_info": {
   "codemirror_mode": {
    "name": "ipython",
    "version": 3
   },
   "file_extension": ".py",
   "mimetype": "text/x-python",
   "name": "python",
   "nbconvert_exporter": "python",
   "pygments_lexer": "ipython3",
   "version": "3.8.5"
  }
 },
 "nbformat": 4,
 "nbformat_minor": 2
}
