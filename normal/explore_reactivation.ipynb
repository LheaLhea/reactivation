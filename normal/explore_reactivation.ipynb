{
 "cells": [
  {
   "cell_type": "code",
   "execution_count": null,
   "metadata": {},
   "outputs": [],
   "source": [
    "import plot\n",
    "import classify\n",
    "import importlib\n",
    "import preprocess\n",
    "from IPython.core.display import display, HTML\n",
    "display(HTML(\"<style>.container { width:100% !important; }</style>\"))"
   ]
  },
  {
   "cell_type": "code",
   "execution_count": null,
   "metadata": {},
   "outputs": [],
   "source": [
    "# reload when updating code\n",
    "importlib.reload(plot)\n",
    "importlib.reload(classify)\n",
    "importlib.reload(preprocess)\n",
    "# mouse and date\n",
    "mouse = 'NN8'\n",
    "date = '210316'\n",
    "# create folders to save files\n",
    "paths = preprocess.create_folders(mouse, date)\n",
    "# import data for mouse and date as dict\n",
    "session_data = preprocess.load_data(paths)\n",
    "# process and plot behavior\n",
    "behavior = preprocess.process_behavior(session_data, paths)\n",
    "# save masks so can run in matlab to process other planes\n",
    "preprocess.cell_masks(paths, 0)"
   ]
  },
  {
   "cell_type": "code",
   "execution_count": null,
   "metadata": {},
   "outputs": [],
   "source": [
    "# reload when updating code\n",
    "importlib.reload(plot)\n",
    "importlib.reload(classify)\n",
    "importlib.reload(preprocess)\n",
    "# grab activity \n",
    "deconvolved = preprocess.process_activity(paths, 'spks', 3, 0)\n",
    "# normalize activity\n",
    "norm_deconvolved = preprocess.normalize_deconvolved(deconvolved, behavior, paths, 0)\n",
    "# gassuain filter acitivity\n",
    "norm_moving_deconvolved_filtered = preprocess.difference_gaussian_filter(norm_deconvolved, 4, behavior, paths, 0)\n",
    "# make trial averaged traces and basline subtract\n",
    "mean_cs_1_responses_df = preprocess.normalized_trial_averaged(norm_deconvolved, behavior, 'cs_1')\n",
    "mean_cs_2_responses_df = preprocess.normalized_trial_averaged(norm_deconvolved, behavior, 'cs_2')\n",
    "# get sig cells\n",
    "[cs_1_poscells, cs_1_negcells] = preprocess.sig_test(norm_deconvolved, behavior, 'cs_1')\n",
    "[cs_2_poscells, cs_2_negcells] = preprocess.sig_test(norm_deconvolved, behavior, 'cs_2')\n",
    "[both_poscells, both_sigcells] = preprocess.combine_sig(cs_1_poscells, cs_1_negcells, cs_2_poscells, cs_2_negcells)\n",
    "# get idx of top cell differences\n",
    "idx = preprocess.get_index(behavior, mean_cs_1_responses_df, mean_cs_2_responses_df, cs_1_poscells, cs_2_poscells, both_poscells, both_sigcells, paths, 0)"
   ]
  },
  {
   "cell_type": "code",
   "execution_count": null,
   "metadata": {},
   "outputs": [],
   "source": [
    "# reload when updating code\n",
    "importlib.reload(plot)\n",
    "importlib.reload(classify)\n",
    "importlib.reload(preprocess)\n",
    "# get prior for synchronous cue activity\n",
    "prior = classify.prior(norm_moving_deconvolved_filtered, idx['cs_1'], idx['cs_2'], behavior, [])\n",
    "# logistic regression\n",
    "y_pred = classify.log_regression(behavior, norm_deconvolved, norm_moving_deconvolved_filtered, both_poscells, prior)\n",
    "# process classified output\n",
    "y_pred = classify.process_classified(y_pred, prior, paths, 0)"
   ]
  },
  {
   "cell_type": "code",
   "execution_count": null,
   "metadata": {},
   "outputs": [],
   "source": []
  },
  {
   "cell_type": "code",
   "execution_count": null,
   "metadata": {},
   "outputs": [],
   "source": []
  },
  {
   "cell_type": "code",
   "execution_count": null,
   "metadata": {},
   "outputs": [],
   "source": []
  },
  {
   "cell_type": "code",
   "execution_count": null,
   "metadata": {
    "scrolled": true
   },
   "outputs": [],
   "source": [
    "# reload when updating code\n",
    "importlib.reload(plot)\n",
    "importlib.reload(classify)\n",
    "importlib.reload(preprocess)\n",
    "plot.reactivation_cue_vector(norm_deconvolved, idx, y_pred, behavior, paths, [], [])"
   ]
  },
  {
   "cell_type": "code",
   "execution_count": null,
   "metadata": {},
   "outputs": [],
   "source": []
  },
  {
   "cell_type": "code",
   "execution_count": null,
   "metadata": {},
   "outputs": [],
   "source": []
  },
  {
   "cell_type": "code",
   "execution_count": null,
   "metadata": {},
   "outputs": [],
   "source": []
  },
  {
   "cell_type": "code",
   "execution_count": null,
   "metadata": {},
   "outputs": [],
   "source": []
  },
  {
   "cell_type": "code",
   "execution_count": null,
   "metadata": {},
   "outputs": [],
   "source": [
    "# reload when updating code\n",
    "importlib.reload(plot)\n",
    "importlib.reload(classify)\n",
    "importlib.reload(preprocess)\n",
    "# plot heatmap of top cells\n",
    "plot.sorted_map(behavior, mean_cs_1_responses_df, mean_cs_2_responses_df, idx['cs_1'], idx['cs_2'], 150, paths)\n",
    "# plot mean reactivation probability after cues\n",
    "plot.mean_reactivation(y_pred, behavior, paths, [], [])\n",
    "# plot reactivation bias over time\n",
    "plot.all_reactivation_bias(y_pred, behavior, paths, [], [])\n",
    "# plot physical evoked reactivations\n",
    "plot.reactivation_physical(y_pred, behavior, paths, [], [])\n",
    "# plot activity change with reactivation rates over time\n",
    "plot.activity_across_trials(norm_deconvolved, norm_moving_deconvolved_filtered, behavior, y_pred, idx, paths, [], [])\n",
    "# plot reactivation raster\n",
    "plot.reactivation_raster(behavior, norm_deconvolved, y_pred, idx['cs_1_df'], idx['cs_2_df'], idx['both'], paths, [])\n",
    "#plot.sample_reactivation_raster(behavior, norm_deconvolved, y_pred, idx['cs_1_df'], idx['cs_2_df'], idx['both'], paths, 46500, 47500)"
   ]
  },
  {
   "cell_type": "code",
   "execution_count": null,
   "metadata": {},
   "outputs": [],
   "source": []
  },
  {
   "cell_type": "code",
   "execution_count": null,
   "metadata": {},
   "outputs": [],
   "source": []
  },
  {
   "cell_type": "code",
   "execution_count": null,
   "metadata": {},
   "outputs": [],
   "source": []
  },
  {
   "cell_type": "code",
   "execution_count": null,
   "metadata": {},
   "outputs": [],
   "source": []
  },
  {
   "cell_type": "code",
   "execution_count": null,
   "metadata": {},
   "outputs": [],
   "source": [
    "# reload when updating code\n",
    "importlib.reload(plot)\n",
    "importlib.reload(classify)\n",
    "importlib.reload(preprocess)\n",
    "# create folders to save files\n",
    "paths = preprocess.create_folders(mouse, date)\n",
    "# import data for mouse and date as dict\n",
    "session_data = preprocess.load_data(paths)\n",
    "# process and plot behavior\n",
    "behavior = preprocess.process_behavior(session_data, paths)\n",
    "# normalize activity\n",
    "norm_deconvolved = preprocess.normalize_deconvolved([], behavior, paths, 0)\n",
    "# Gaussian filter activity\n",
    "norm_moving_deconvolved_filtered = preprocess.difference_gaussian_filter(norm_deconvolved, 4, behavior, paths, 0)"
   ]
  },
  {
   "cell_type": "code",
   "execution_count": null,
   "metadata": {},
   "outputs": [],
   "source": [
    "# reload when updating code\n",
    "importlib.reload(plot)\n",
    "importlib.reload(classify)\n",
    "importlib.reload(preprocess)\n",
    "import random\n",
    "# random subset of cells\n",
    "rand_cells = random.sample(range(0, len(norm_deconvolved)), int(len(norm_deconvolved)/10))\n",
    "norm_deconvolved_subset = norm_deconvolved.loc[rand_cells, :]\n",
    "norm_moving_deconvolved_filtered_subset = norm_moving_deconvolved_filtered[rand_cells, :]\n",
    "# make trial averaged traces and baseline subtract\n",
    "mean_cs_1_responses_df = preprocess.normalized_trial_averaged(norm_deconvolved_subset, behavior, 'cs_1')\n",
    "mean_cs_2_responses_df = preprocess.normalized_trial_averaged(norm_deconvolved_subset, behavior, 'cs_2')\n",
    "# get sig cells\n",
    "[cs_1_poscells, cs_1_negcells] = preprocess.sig_test(norm_deconvolved_subset, behavior, 'cs_1')\n",
    "[cs_2_poscells, cs_2_negcells] = preprocess.sig_test(norm_deconvolved_subset, behavior, 'cs_2')\n",
    "[both_poscells, both_sigcells] = preprocess.combine_sig(cs_1_poscells, cs_1_negcells, cs_2_poscells,\n",
    "                                                        cs_2_negcells)\n",
    "# get idx of top cell differences\n",
    "idx = preprocess.get_index(behavior, mean_cs_1_responses_df, mean_cs_2_responses_df, cs_1_poscells,\n",
    "                           cs_2_poscells, both_poscells, both_sigcells, paths, 2)\n",
    "# get idx of top cell differences\n",
    "idx_original = preprocess.get_index(behavior, mean_cs_1_responses_df, mean_cs_2_responses_df, cs_1_poscells, cs_2_poscells, both_poscells, both_sigcells, paths, 0)\n",
    "# get prior for synchronous cue activity\n",
    "prior = classify.prior(norm_moving_deconvolved_filtered_subset, idx['cs_1'], idx['cs_2'], behavior, [])\n",
    "# logistic regression\n",
    "y_pred = classify.log_regression(behavior, norm_deconvolved_subset, norm_moving_deconvolved_filtered_subset,\n",
    "                                 both_poscells, prior)\n",
    "# process classified output\n",
    "y_pred = classify.process_classified(y_pred, prior, paths, 2)\n",
    "y_pred_original = classify.process_classified([], [], paths, 0)\n",
    "\n",
    "import pandas as pd\n",
    "import numpy as np\n",
    "import plot_subset\n",
    "importlib.reload(plot_subset)\n",
    "plot_subset.sample_reactivation_raster(behavior, pd.DataFrame(np.array(norm_deconvolved_subset)), norm_deconvolved, y_pred, y_pred_original, \n",
    "                                       idx['cs_1_df'], idx['cs_2_df'], idx_original['cs_1_df'], idx_original['cs_2_df'], paths, 24500, 25500)"
   ]
  },
  {
   "cell_type": "code",
   "execution_count": null,
   "metadata": {},
   "outputs": [],
   "source": []
  }
 ],
 "metadata": {
  "kernelspec": {
   "display_name": "Python 3",
   "language": "python",
   "name": "python3"
  },
  "language_info": {
   "codemirror_mode": {
    "name": "ipython",
    "version": 3
   },
   "file_extension": ".py",
   "mimetype": "text/x-python",
   "name": "python",
   "nbconvert_exporter": "python",
   "pygments_lexer": "ipython3",
   "version": "3.8.5"
  }
 },
 "nbformat": 4,
 "nbformat_minor": 2
}
