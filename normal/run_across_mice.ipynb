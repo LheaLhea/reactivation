{
 "cells": [
  {
   "cell_type": "code",
   "execution_count": null,
   "metadata": {},
   "outputs": [],
   "source": [
    "import importlib\n",
    "import plot_across_mice\n",
    "import plot_across_mice_subset\n",
    "from IPython.core.display import display, HTML\n",
    "display(HTML(\"<style>.container { width:100% !important; }</style>\"))"
   ]
  },
  {
   "cell_type": "code",
   "execution_count": null,
   "metadata": {},
   "outputs": [],
   "source": [
    "mice = ['NN8', 'NN9', 'NN11', 'NN23']\n",
    "sample_dates = ['210312', '210428', '210626', '220416']\n",
    "all_mice = ['NN8', 'NN9', 'NN11', 'NN23', 'NN13', 'NN16', 'NN17']\n",
    "all_sample_dates = ['210312', '210428', '210626', '220416', '210811', '211014', '211025']"
   ]
  },
  {
   "cell_type": "code",
   "execution_count": null,
   "metadata": {},
   "outputs": [],
   "source": [
    "importlib.reload(plot_across_mice)\n",
    "# plot reactivation classification shuffle\n",
    "plot_across_mice.p_distribution_shuffle(all_mice, all_sample_dates)\n",
    "# plot reactivation rate day\n",
    "plot_across_mice.reactivation_rate_day(mice, sample_dates)\n",
    "# plot reactivation bias day\n",
    "plot_across_mice.reactivation_bias_day(mice, sample_dates)\n",
    "# plot reactivation rate trial\n",
    "plot_across_mice.reactivation_rate_trial(mice, sample_dates)\n",
    "# plot reactivation bias trial\n",
    "plot_across_mice.reactivation_bias_trial(mice, sample_dates)\n",
    "# plot reactivation physical\n",
    "plot_across_mice.reactivation_physical(all_mice, all_sample_dates)\n",
    "# plot trial history modulation\n",
    "plot_across_mice.trial_history(1, mice, sample_dates)\n",
    "# plot pupil reactivation modulation\n",
    "plot_across_mice.pupil_reactivation_modulation(mice, sample_dates)\n",
    "# plot activity bias in ITI\n",
    "plot_across_mice.iti_bias(mice, sample_dates)\n",
    "# plot reactivation duration\n",
    "plot_across_mice.reactivation_duration(mice, sample_dates)\n",
    "# plot pupil across session\n",
    "plot_across_mice.pupil_across_trials(mice, sample_dates)\n",
    "# plot pupil within trial\n",
    "plot_across_mice.pupil_within_trial(mice, sample_dates)\n",
    "# plot iti activity across session\n",
    "plot_across_mice.iti_activity_across_trials(mice, sample_dates)\n",
    "# plot iti activity within trial\n",
    "plot_across_mice.iti_activity_within_trial(mice, sample_dates)\n",
    "# plot top vs bottom cells activity during reactivation\n",
    "plot_across_mice.reactivation_top_bottom_activity(mice, sample_dates)\n",
    "# plot cue cue correlation\n",
    "plot_across_mice.cue_cue_correlation(mice, sample_dates)\n",
    "# plot reactivation cue correlation\n",
    "plot_across_mice.reactivation_cue_correlation(mice, sample_dates)\n",
    "# plot reactivation cue correlation smooth\n",
    "plot_across_mice.reactivation_cue_correlation_smooth(mice, sample_dates)\n",
    "# plot activity across trials\n",
    "plot_across_mice.activity_across_trials(mice, sample_dates)\n",
    "# plot activity across trials grouped\n",
    "plot_across_mice.activity_across_trials_grouped(mice, sample_dates)\n",
    "# plot activity across trials grouped in/decrease\n",
    "plot_across_mice.activity_across_trials_grouped_decrease(mice, sample_dates)\n",
    "# plot cue reactivation activity\n",
    "plot_across_mice.cue_reactivation_activity(mice,sample_dates)\n",
    "# plot activity correlation with reactivation\n",
    "plot_across_mice.activity_reactivation_correlation(mice, sample_dates)\n",
    "# plot reactivation spatial regions\n",
    "plot_across_mice.reactivation_spatial(mice, sample_dates)\n",
    "# plot reactivation cue vector\n",
    "plot_across_mice.reactivation_cue_vector(mice, sample_dates)\n",
    "# plot reactivation cue vector evolve\n",
    "plot_across_mice.reactivation_cue_vector_evolve(mice, sample_dates)\n",
    "# plot activity across trials evolve\n",
    "plot_across_mice.activity_across_trials_evolve(mice, sample_dates)\n",
    "# plot activity across trials evolve grouped\n",
    "plot_across_mice.activity_across_trials_evolve_grouped(mice, sample_dates)\n",
    "# plot activity across trials evolve grouped in/decrease\n",
    "plot_across_mice.activity_across_trials_evolve_grouped_decrease(mice, sample_dates)\n",
    "# plot evolve and real cross correlation\n",
    "plot_across_mice.reactivation_cue_vector_cross_evolve(mice, sample_dates)\n",
    "# plot reactivation cue vector evolve parametric\n",
    "plot_across_mice.reactivation_cue_vector_evolve_parametric(mice, sample_dates)\n",
    "# activity difference grouped \n",
    "plot_across_mice.activity_difference_grouped(mice, sample_dates)"
   ]
  },
  {
   "cell_type": "code",
   "execution_count": null,
   "metadata": {},
   "outputs": [],
   "source": [
    "importlib.reload(plot_across_mice_subset)\n",
    "# # plot reactivation rate day subset\n",
    "# plot_across_mice_subset.reactivation_rate_day(mice, sample_dates)\n",
    "# # plot reactivation bias day subset\n",
    "# plot_across_mice_subset.reactivation_bias_day(mice, sample_dates)\n",
    "# # plot reactivation difference subset\n",
    "# plot_across_mice_subset.reactivation_difference(mice, sample_dates)"
   ]
  },
  {
   "cell_type": "code",
   "execution_count": null,
   "metadata": {},
   "outputs": [],
   "source": [
    "importlib.reload(plot_across_mice)"
   ]
  },
  {
   "cell_type": "code",
   "execution_count": null,
   "metadata": {},
   "outputs": [],
   "source": []
  }
 ],
 "metadata": {
  "kernelspec": {
   "display_name": "Python 3",
   "language": "python",
   "name": "python3"
  },
  "language_info": {
   "codemirror_mode": {
    "name": "ipython",
    "version": 3
   },
   "file_extension": ".py",
   "mimetype": "text/x-python",
   "name": "python",
   "nbconvert_exporter": "python",
   "pygments_lexer": "ipython3",
   "version": "3.8.5"
  }
 },
 "nbformat": 4,
 "nbformat_minor": 2
}
