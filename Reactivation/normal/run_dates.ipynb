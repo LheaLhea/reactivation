{
 "cells": [
  {
   "cell_type": "code",
   "execution_count": null,
   "metadata": {},
   "outputs": [],
   "source": [
    "import plot\n",
    "import classify\n",
    "import importlib\n",
    "import preprocess\n",
    "import reactivation\n",
    "import reactivation_full\n",
    "from IPython.core.display import display, HTML\n",
    "display(HTML(\"<style>.container { width:100% !important; }</style>\"))"
   ]
  },
  {
   "cell_type": "code",
   "execution_count": null,
   "metadata": {},
   "outputs": [],
   "source": [
    "importlib.reload(plot)\n",
    "importlib.reload(classify)\n",
    "importlib.reload(preprocess)\n",
    "importlib.reload(reactivation)\n",
    "importlib.reload(reactivation_full)"
   ]
  },
  {
   "cell_type": "code",
   "execution_count": null,
   "metadata": {},
   "outputs": [],
   "source": [
    "# run for all dates and mice\n",
    "mice = ['NN8', 'NN9']\n",
    "dates_NN8 = ['210312', '210314', '210316', '210318', '210320', '210321', '210327', '210329', '210330']\n",
    "dates_NN9 = ['210428', '210429', '210501', '210502', '210503', '210505', '210506', '210507', '210509', '210510', '210511', '210512', '210513', '210514']\n",
    "dates_all = [dates_NN8, dates_NN9]\n",
    "for mouse in range(0, len(mice)):\n",
    "    dates = dates_all[mouse]\n",
    "    for date in dates:\n",
    "        reactivation_full.process(mice[mouse], date)"
   ]
  },
  {
   "cell_type": "code",
   "execution_count": null,
   "metadata": {},
   "outputs": [],
   "source": []
  }
 ],
 "metadata": {
  "kernelspec": {
   "display_name": "Python 3",
   "language": "python",
   "name": "python3"
  },
  "language_info": {
   "codemirror_mode": {
    "name": "ipython",
    "version": 3
   },
   "file_extension": ".py",
   "mimetype": "text/x-python",
   "name": "python",
   "nbconvert_exporter": "python",
   "pygments_lexer": "ipython3",
   "version": "3.8.5"
  }
 },
 "nbformat": 4,
 "nbformat_minor": 2
}
