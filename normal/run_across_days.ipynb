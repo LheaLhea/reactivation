{
 "cells": [
  {
   "cell_type": "code",
   "execution_count": null,
   "metadata": {},
   "outputs": [],
   "source": [
    "import plot\n",
    "import plot_subset\n",
    "import classify\n",
    "import importlib\n",
    "import preprocess\n",
    "import reactivation\n",
    "import reactivation_full\n",
    "import reactivation_subset\n",
    "import plot_across_days\n",
    "from IPython.core.display import display, HTML\n",
    "display(HTML(\"<style>.container { width:100% !important; }</style>\"))"
   ]
  },
  {
   "cell_type": "code",
   "execution_count": null,
   "metadata": {},
   "outputs": [],
   "source": [
    "importlib.reload(plot)\n",
    "importlib.reload(plot_subset)\n",
    "importlib.reload(classify)\n",
    "importlib.reload(preprocess)\n",
    "importlib.reload(reactivation)\n",
    "importlib.reload(reactivation_full)\n",
    "importlib.reload(reactivation_subset)\n",
    "# run for all dates and mice\n",
    "dates_NN8 = ['210312', '210314', '210316', '210318', '210320', '210321', '210327', '210329', '210330']\n",
    "dates_NN9 = ['210428', '210429', '210501', '210502', '210503', '210505', '210506', '210507', '210509', '210510', '210511', '210512', '210513', '210514']\n",
    "dates_NN11 = ['210626', '210627', '210628', '210629', '210630', '210701', '210703', '210704', '210705', '210706']\n",
    "dates_NN23 = ['220416', '220417', '220418', '220419', '220420', '220421', '220422', '220423', '220424']\n",
    "dates_all = [dates_NN8, dates_NN9, dates_NN11, dates_NN23]\n",
    "mice = ['NN8', 'NN9', 'NN11', 'NN23']\n",
    "for mouse in range(0, len(mice)):\n",
    "    print(mouse)\n",
    "    dates = dates_all[mouse]\n",
    "    for date in range(0, len(dates)):\n",
    "        print(date)\n",
    "        reactivation.process(mice[mouse], dates[date], date, len(dates))\n",
    "        #reactivation_full.process(mice[mouse], dates[date], date, len(dates))\n",
    "        #reactivation_subset.process(mice[mouse], dates[date], date, len(dates))"
   ]
  },
  {
   "cell_type": "code",
   "execution_count": null,
   "metadata": {},
   "outputs": [],
   "source": []
  }
 ],
 "metadata": {
  "kernelspec": {
   "display_name": "Python 3",
   "language": "python",
   "name": "python3"
  },
  "language_info": {
   "codemirror_mode": {
    "name": "ipython",
    "version": 3
   },
   "file_extension": ".py",
   "mimetype": "text/x-python",
   "name": "python",
   "nbconvert_exporter": "python",
   "pygments_lexer": "ipython3",
   "version": "3.8.5"
  }
 },
 "nbformat": 4,
 "nbformat_minor": 2
}
