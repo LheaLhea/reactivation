{
 "cells": [
  {
   "cell_type": "code",
   "execution_count": 1,
   "metadata": {},
   "outputs": [
    {
     "data": {
      "text/html": [
       "<style>.container { width:100% !important; }</style>"
      ],
      "text/plain": [
       "<IPython.core.display.HTML object>"
      ]
     },
     "metadata": {},
     "output_type": "display_data"
    }
   ],
   "source": [
    "import importlib\n",
    "import plot_across_mice\n",
    "import plot_across_mice_subset\n",
    "from IPython.core.display import display, HTML\n",
    "display(HTML(\"<style>.container { width:100% !important; }</style>\"))"
   ]
  },
  {
   "cell_type": "code",
   "execution_count": 2,
   "metadata": {},
   "outputs": [],
   "source": [
    "mice = ['NN8', 'NN9', 'NN11', 'NN23','NN28']\n",
    "sample_dates = ['210312', '210428', '210626', '220416','230210']\n",
    "all_mice = ['NN8', 'NN9', 'NN11', 'NN23', 'NN28', 'NN13', 'NN16', 'NN17']\n",
    "all_sample_dates = ['210312', '210428', '210626', '220416', '230210', '210811', '211014', '211025']"
   ]
  },
  {
   "cell_type": "code",
   "execution_count": null,
   "metadata": {},
   "outputs": [],
   "source": [
    "importlib.reload(plot_across_mice)\n",
    "# # plot reactivation classification shuffle\n",
    "# plot_across_mice.p_distribution_shuffle(all_mice, all_sample_dates)\n",
    "# plot reactivation rate day\n",
    "plot_across_mice.reactivation_rate_day(mice, sample_dates)\n",
    "# plot reactivation bias day\n",
    "plot_across_mice.reactivation_bias_day(mice, sample_dates)\n",
    "# plot reactivation rate trial\n",
    "plot_across_mice.reactivation_rate_trial(mice, sample_dates)\n",
    "# plot reactivation bias trial\n",
    "plot_across_mice.reactivation_bias_trial(mice, sample_dates)\n",
    "# plot reactivation physical\n",
    "plot_across_mice.reactivation_physical(all_mice, all_sample_dates)\n",
    "# plot trial history modulation\n",
    "plot_across_mice.trial_history(1, mice, sample_dates)\n",
    "# plot reactivation duration\n",
    "plot_across_mice.reactivation_duration(mice, sample_dates)\n",
    "# plot pupil across session\n",
    "plot_across_mice.pupil_across_trials(mice, sample_dates)\n",
    "# plot pupil within trial\n",
    "plot_across_mice.pupil_within_trial(mice, sample_dates)\n",
    "# plot iti activity across session\n",
    "plot_across_mice.iti_activity_across_trials(all_mice, all_sample_dates)\n",
    "# plot iti activity within trial\n",
    "plot_across_mice.iti_activity_within_trial(all_mice, all_sample_dates)\n",
    "# plot top vs bottom cells activity during reactivation\n",
    "plot_across_mice.reactivation_top_bottom_activity(mice, sample_dates)\n",
    "# plot activity across trials\n",
    "plot_across_mice.activity_across_trials(mice, sample_dates)\n",
    "# plot activity across trials grouped\n",
    "plot_across_mice.activity_across_trials_grouped(all_mice, all_sample_dates)\n",
    "# plot activity across trials grouped in/decrease\n",
    "plot_across_mice.activity_across_trials_grouped_separate(all_mice, all_sample_dates)\n",
    "# plot activity correlation with reactivation\n",
    "plot_across_mice.activity_reactivation_correlation(mice, sample_dates)\n",
    "# plot reactivation spatial regions\n",
    "plot_across_mice.reactivation_spatial(mice, sample_dates)\n",
    "# plot reactivation cue scale\n",
    "plot_across_mice.reactivation_cue_scale(mice, sample_dates)\n",
    "# plot reactivation cue vector\n",
    "plot_across_mice.reactivation_cue_vector(mice, sample_dates)\n",
    "# plot reactivation cue vector evolve\n",
    "plot_across_mice.reactivation_cue_vector_evolve(mice, sample_dates)\n",
    "# plot activity across trials evolve\n",
    "plot_across_mice.activity_across_trials_evolve(mice, sample_dates)\n",
    "# plot activity across trials evolve grouped\n",
    "plot_across_mice.activity_across_trials_evolve_grouped(mice, sample_dates)\n",
    "# plot activity across trials evolve grouped in/decrease\n",
    "plot_across_mice.activity_across_trials_evolve_grouped_decrease(mice, sample_dates)\n",
    "# plot evolve and real cross correlation\n",
    "plot_across_mice.reactivation_cue_vector_cross_evolve(mice, sample_dates)\n",
    "# plot reactivation cue vector evolve parametric\n",
    "plot_across_mice.reactivation_cue_vector_evolve_parametric(mice, sample_dates)\n",
    "# reactivation pattern\n",
    "plot_across_mice.reactivation_cue_pattern_difference(mice, sample_dates)\n",
    "# reactivation influence \n",
    "plot_across_mice.reactivation_cue_difference(mice, sample_dates)\n",
    "# grouped count\n",
    "plot_across_mice.grouped_count(mice, sample_dates)\n",
    "# neuron count R2\n",
    "plot_across_mice.neuron_count_R2(all_mice, all_sample_dates)\n",
    "# neuron dist R3\n",
    "plot_across_mice.neuron_overlap_dist_R3(all_mice, all_sample_dates)\n",
    "# cue reactivation layer\n",
    "plot_across_mice.reactivation_layer_R1(all_mice, all_sample_dates)\n",
    "# plot reactivation rate for syn vs iti period\n",
    "plot_across_mice.reactivation_syn_iti_R2(all_mice, all_sample_dates)\n",
    "# top stable\n",
    "plot_across_mice.top_activity_stable_R3(all_mice, all_sample_dates)\n",
    "# plot pupil and brain motion across trials\n",
    "plot_across_mice.behavior_across_trials_R2(all_mice, all_sample_dates)\n",
    "# compare rate vs opto\n",
    "plot_across_mice.reactivation_rate_day_comparison_R1(all_mice, all_sample_dates)\n",
    "# plot across day correlation\n",
    "plot_across_mice.activity_across_trials_across_days_R1(mice, sample_dates)\n",
    "# reactivation spatial drift\n",
    "plot_across_mice.reactivation_spatial_drift(all_mice, all_sample_dates)\n",
    "# activity across trials layer\n",
    "plot_across_mice.activity_across_trials_layer(all_mice, all_sample_dates)\n",
    "# number of grouped neurons\n",
    "plot_across_mice.neuron_count_grouped_R2(all_mice, all_sample_dates)\n",
    "# activity across trials grouped omit\n",
    "plot_across_mice.activity_across_trials_grouped_omit(all_mice, all_sample_dates)\n",
    "# plot baseline activity grouped\n",
    "plot_across_mice.activity_across_trials_grouped_baseline_R3(all_mice, all_sample_dates)\n",
    "# grouped neuron count layer\n",
    "plot_across_mice.neuron_count_grouped_layer_R3(all_mice, all_sample_dates)\n",
    "# grouped neuron count region\n",
    "plot_across_mice.reactivation_spatial_grouped(all_mice, all_sample_dates)\n",
    "# noise correlation grouped\n",
    "plot_across_mice.noise_grouped_R3(all_mice, all_sample_dates)\n",
    "# plot novelty neurons\n",
    "plot_across_mice.activity_across_trials_grouped_decrease_novelty_R1(all_mice, all_sample_dates)\n",
    "# plot without novelty neurons activity across trials\n",
    "plot_across_mice.activity_across_trials_novelty_R1(all_mice, all_sample_dates)\n",
    "# plot face tracking\n",
    "plot_across_mice.face_track_R1(mice, sample_dates)\n",
    "# plot vector projection without novelty neurons\n",
    "plot_across_mice.reactivation_cue_vector_novelty_R1(all_mice, all_sample_dates)\n",
    "# plot vector layer\n",
    "plot_across_mice.reactivation_cue_vector_layer_R1(all_mice, all_sample_dates)\n",
    "# plot other synchronous events \n",
    "plot_across_mice.prior_R1(all_mice, all_sample_dates)\n",
    "# plot correlation on even vs. odd days\n",
    "plot_across_mice.activity_across_trials_oddeven_R2R3(all_mice, all_sample_dates)\n",
    "# plot correlation on even vs. odd days\n",
    "plot_across_mice.reactivation_cue_vector_oddeven_R2R3(all_mice, all_sample_dates)\n",
    "# plot ripples\n",
    "plot_across_mice.ripples(mice, sample_dates)\n",
    "# plot pupil activity modulation on rates\n",
    "plot_across_mice.pupil_acitity_reactivation_modulation(all_mice, all_sample_dates)\n",
    "# how many cells across days\n",
    "plot_across_mice.quantify_num_across_days(mice, sample_dates)\n",
    "# plot reactivation difference tuned flip\n",
    "plot_across_mice.reactivation_difference_tunedflip_R2(all_mice, all_sample_dates)\n",
    "# plot selectivity grouped\n",
    "plot_across_mice.num_selective_grouped(all_mice, all_sample_dates)"
   ]
  },
  {
   "cell_type": "code",
   "execution_count": null,
   "metadata": {},
   "outputs": [],
   "source": [
    "importlib.reload(plot_across_mice_subset)\n",
    "# plot reactivation bias day subset\n",
    "plot_across_mice_subset.reactivation_bias_day(all_mice, all_sample_dates)\n",
    "# plot reactivation difference subset\n",
    "plot_across_mice_subset.reactivation_difference(all_mice, all_sample_dates)"
   ]
  },
  {
   "cell_type": "code",
   "execution_count": 23,
   "metadata": {},
   "outputs": [
    {
     "data": {
      "text/plain": [
       "<module 'plot_across_mice' from 'C:\\\\Users\\\\nnguyen\\\\PycharmProjects\\\\Reactivation\\\\normal\\\\plot_across_mice.py'>"
      ]
     },
     "execution_count": 23,
     "metadata": {},
     "output_type": "execute_result"
    }
   ],
   "source": [
    "importlib.reload(plot_across_mice)"
   ]
  },
  {
   "cell_type": "code",
   "execution_count": null,
   "metadata": {},
   "outputs": [],
   "source": []
  }
 ],
 "metadata": {
  "kernelspec": {
   "display_name": "Python 3",
   "language": "python",
   "name": "python3"
  },
  "language_info": {
   "codemirror_mode": {
    "name": "ipython",
    "version": 3
   },
   "file_extension": ".py",
   "mimetype": "text/x-python",
   "name": "python",
   "nbconvert_exporter": "python",
   "pygments_lexer": "ipython3",
   "version": "3.8.5"
  }
 },
 "nbformat": 4,
 "nbformat_minor": 2
}
