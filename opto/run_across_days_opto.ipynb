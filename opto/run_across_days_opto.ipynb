{
 "cells": [
  {
   "cell_type": "code",
   "execution_count": null,
   "metadata": {},
   "outputs": [],
   "source": [
    "import plot_opto\n",
    "import classify_opto\n",
    "import importlib\n",
    "import preprocess_opto\n",
    "import reactivation_opto\n",
    "import reactivation_full_opto\n",
    "import plot_across_days_opto\n",
    "from IPython.core.display import display, HTML\n",
    "display(HTML(\"<style>.container { width:100% !important; }</style>\"))"
   ]
  },
  {
   "cell_type": "code",
   "execution_count": null,
   "metadata": {},
   "outputs": [],
   "source": [
    "importlib.reload(plot_opto)\n",
    "importlib.reload(classify_opto)\n",
    "importlib.reload(preprocess_opto)\n",
    "importlib.reload(reactivation_opto)\n",
    "importlib.reload(reactivation_full_opto)\n",
    "# run for all dates and mice\n",
    "dates_NN13 = ['210811', '210812', '210813', '210814', '210815', '210816', '210817', '210818']\n",
    "dates_NN16 = ['211014', '211015', '211016', '211017', '211018', '211019', '211020', '211021', '211022']\n",
    "dates_NN17 = ['211025', '211026', '211028', '211029', '211030', '211031', '211101']\n",
    "dates_all = [dates_NN13, dates_NN16, dates_NN17]\n",
    "mice = ['NN13', 'NN16', 'NN17']\n",
    "for mouse in range(0, len(mice)):\n",
    "    print(mouse)\n",
    "    dates = dates_all[mouse]\n",
    "    for date in range(0, len(dates)):\n",
    "        print(date)\n",
    "        reactivation_opto.process(mice[mouse], dates[date], date, len(dates))\n",
    "        #reactivation_full_opto.process(mice[mouse], dates[date], date, len(dates))"
   ]
  },
  {
   "cell_type": "code",
   "execution_count": null,
   "metadata": {},
   "outputs": [],
   "source": []
  }
 ],
 "metadata": {
  "kernelspec": {
   "display_name": "Python 3",
   "language": "python",
   "name": "python3"
  },
  "language_info": {
   "codemirror_mode": {
    "name": "ipython",
    "version": 3
   },
   "file_extension": ".py",
   "mimetype": "text/x-python",
   "name": "python",
   "nbconvert_exporter": "python",
   "pygments_lexer": "ipython3",
   "version": "3.8.5"
  }
 },
 "nbformat": 4,
 "nbformat_minor": 2
}
