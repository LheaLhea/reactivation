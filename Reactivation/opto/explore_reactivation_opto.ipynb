{
 "cells": [
  {
   "cell_type": "code",
   "execution_count": 1,
   "metadata": {},
   "outputs": [
    {
     "data": {
      "text/html": [
       "<style>.container { width:100% !important; }</style>"
      ],
      "text/plain": [
       "<IPython.core.display.HTML object>"
      ]
     },
     "metadata": {},
     "output_type": "display_data"
    }
   ],
   "source": [
    "import importlib\n",
    "import plot_opto\n",
    "import classify_opto\n",
    "import preprocess_opto\n",
    "from IPython.core.display import display, HTML\n",
    "display(HTML(\"<style>.container { width:100% !important; }</style>\"))"
   ]
  },
  {
   "cell_type": "code",
   "execution_count": 4,
   "metadata": {},
   "outputs": [],
   "source": [
    "importlib.reload(plot_opto)\n",
    "importlib.reload(classify_opto)\n",
    "importlib.reload(preprocess_opto)\n",
    "# mouse and date\n",
    "mouse = 'NN13'\n",
    "date = '210811'\n",
    "# create folders to save files\n",
    "paths = preprocess_opto.create_folders(mouse, date)\n",
    "# process and plot behavior\n",
    "behavior = preprocess_opto.process_behavior(paths)\n",
    "# save masks so can run in matlab to process other planes\n",
    "preprocess_opto.cell_masks(paths, 0)"
   ]
  },
  {
   "cell_type": "code",
   "execution_count": 5,
   "metadata": {},
   "outputs": [],
   "source": [
    "importlib.reload(plot_opto)\n",
    "importlib.reload(classify_opto)\n",
    "importlib.reload(preprocess_opto)\n",
    "# grab activity \n",
    "deconvolved = preprocess_opto.process_activity(paths, 'spks', 3, 0)\n",
    "# normalize activity\n",
    "norm_deconvolved = preprocess_opto.normalize_deconvolved(deconvolved, behavior, paths, 0)\n",
    "# gassuain filter acitivity\n",
    "norm_moving_deconvolved_filtered = preprocess_opto.difference_gaussian_filter(norm_deconvolved, 4, behavior, paths, 0)\n",
    "# make trial averaged traces and basline subtract\n",
    "mean_cs_1_responses_df = preprocess_opto.normalized_trial_averaged(norm_deconvolved, behavior, 'cs_1')\n",
    "mean_cs_2_responses_df = preprocess_opto.normalized_trial_averaged(norm_deconvolved, behavior, 'cs_2')\n",
    "mean_cs_1_opto_responses_df = preprocess_opto.normalized_trial_averaged(norm_deconvolved, behavior, 'cs_1_opto')\n",
    "mean_cs_2_opto_responses_df = preprocess_opto.normalized_trial_averaged(norm_deconvolved, behavior, 'cs_2_opto')\n",
    "# get sig cells\n",
    "[cs_1_poscells, cs_1_negcells] = preprocess_opto.sig_test(norm_deconvolved, behavior, 'cs_1')\n",
    "[cs_2_poscells, cs_2_negcells] = preprocess_opto.sig_test(norm_deconvolved, behavior, 'cs_2')\n",
    "[both_poscells, both_sigcells] = preprocess_opto.combine_sig(cs_1_poscells, cs_1_negcells, cs_2_poscells, cs_2_negcells)\n",
    "# get idx of top cell differences\n",
    "idx = preprocess_opto.get_index(behavior, mean_cs_1_responses_df, mean_cs_2_responses_df, cs_1_poscells, cs_2_poscells, both_poscells, both_sigcells, paths, 0)\n",
    "# plot heatmap of top cells\n",
    "plot_opto.sorted_map(behavior, mean_cs_1_responses_df, mean_cs_2_responses_df, mean_cs_1_opto_responses_df, mean_cs_2_opto_responses_df, idx['cs_1'], idx['cs_2'], 800, paths)"
   ]
  },
  {
   "cell_type": "code",
   "execution_count": null,
   "metadata": {},
   "outputs": [],
   "source": [
    "importlib.reload(plot_opto)\n",
    "importlib.reload(classify_opto)\n",
    "importlib.reload(preprocess_opto)\n",
    "# get prior for synchronous cue activity\n",
    "prior = classify_opto.prior(norm_moving_deconvolved_filtered, idx['cs_1'], idx['cs_2'], behavior, [])\n",
    "# logistic regression \n",
    "y_pred = classify_opto.log_regression(behavior, norm_deconvolved, norm_moving_deconvolved_filtered, both_poscells, prior)\n",
    "# process classified output\n",
    "y_pred = classify_opto.process_classified(y_pred, prior, paths, 1)\n",
    "# get reactivation times and save\n",
    "preprocess_opto.get_reactivation_times(y_pred, behavior, 0.5, paths, 0)"
   ]
  },
  {
   "cell_type": "code",
   "execution_count": null,
   "metadata": {},
   "outputs": [],
   "source": [
    "importlib.reload(plot_opto)\n",
    "importlib.reload(classify_opto)\n",
    "importlib.reload(preprocess_opto)\n",
    "# plot mean reactivation probability after cues\n",
    "plot_opto.mean_reactivation(y_pred, behavior, paths, [], [])\n",
    "# plot all reactivations over time\n",
    "plot_opto.all_reactivation(y_pred, behavior, paths, [], [])\n",
    "# plot physical evoked reactivations\n",
    "plot_opto.reactivation_physical(y_pred, behavior, paths, [], [])\n",
    "# plot effects of opto following normal trial\n",
    "plot_opto.trial_effect(y_pred, behavior, paths, [], [])\n",
    "# activity control during iti\n",
    "plot_opto.activity_control(norm_deconvolved, behavior, idx, paths, [], [])\n",
    "# plot learning\n",
    "plot_opto.activity_across_trials(norm_deconvolved, behavior, y_pred, idx, paths, [], [])\n",
    "# plot reactivation raster\n",
    "plot_opto.reactivation_raster(behavior, norm_deconvolved, y_pred, idx['cs_1_df'], idx['cs_2_df'], idx['both'], paths, [2])"
   ]
  },
  {
   "cell_type": "code",
   "execution_count": null,
   "metadata": {},
   "outputs": [],
   "source": [
    "importlib.reload(plot_opto)\n",
    "importlib.reload(classify_opto)\n",
    "importlib.reload(preprocess_opto)\n",
    "plot_opto.sample_reactivation_raster(behavior, norm_deconvolved, y_pred, idx['cs_1_df'], idx['cs_2_df'], idx['both'], paths, 88000, 89000)"
   ]
  },
  {
   "cell_type": "code",
   "execution_count": null,
   "metadata": {},
   "outputs": [],
   "source": []
  }
 ],
 "metadata": {
  "kernelspec": {
   "display_name": "Python 3",
   "language": "python",
   "name": "python3"
  },
  "language_info": {
   "codemirror_mode": {
    "name": "ipython",
    "version": 3
   },
   "file_extension": ".py",
   "mimetype": "text/x-python",
   "name": "python",
   "nbconvert_exporter": "python",
   "pygments_lexer": "ipython3",
   "version": "3.8.5"
  }
 },
 "nbformat": 4,
 "nbformat_minor": 2
}
